{
 "cells": [
  {
   "cell_type": "markdown",
   "id": "43b4e4a1",
   "metadata": {},
   "source": [
    "# Building a Hash Table"
   ]
  },
  {
   "cell_type": "markdown",
   "id": "742b675e",
   "metadata": {
    "heading_collapsed": true
   },
   "source": [
    "## Constructor"
   ]
  },
  {
   "cell_type": "markdown",
   "id": "dcb74dfc",
   "metadata": {
    "hidden": true
   },
   "source": []
  },
  {
   "cell_type": "code",
   "execution_count": 1,
   "id": "706556ef",
   "metadata": {
    "hidden": true
   },
   "outputs": [
    {
     "ename": "AttributeError",
     "evalue": "'HashTable' object has no attribute 'data_map'",
     "output_type": "error",
     "traceback": [
      "\u001b[0;31m---------------------------------------------------------------------------\u001b[0m",
      "\u001b[0;31mAttributeError\u001b[0m                            Traceback (most recent call last)",
      "Cell \u001b[0;32mIn [1], line 23\u001b[0m\n\u001b[1;32m     18\u001b[0m             \u001b[38;5;28mprint\u001b[39m(i, \u001b[38;5;124m\"\u001b[39m\u001b[38;5;124m: \u001b[39m\u001b[38;5;124m\"\u001b[39m, val)\n\u001b[1;32m     21\u001b[0m my_hash_table \u001b[38;5;241m=\u001b[39m HashTable()\n\u001b[0;32m---> 23\u001b[0m \u001b[43mmy_hash_table\u001b[49m\u001b[38;5;241;43m.\u001b[39;49m\u001b[43mprint_table\u001b[49m\u001b[43m(\u001b[49m\u001b[43m)\u001b[49m\n\u001b[1;32m     26\u001b[0m \u001b[38;5;124;03m\"\"\"\u001b[39;00m\n\u001b[1;32m     27\u001b[0m \u001b[38;5;124;03m    EXPECTED OUTPUT:\u001b[39;00m\n\u001b[1;32m     28\u001b[0m \u001b[38;5;124;03m    ----------------\u001b[39;00m\n\u001b[0;32m   (...)\u001b[0m\n\u001b[1;32m     36\u001b[0m \n\u001b[1;32m     37\u001b[0m \u001b[38;5;124;03m\"\"\"\u001b[39;00m\n",
      "Cell \u001b[0;32mIn [1], line 17\u001b[0m, in \u001b[0;36mHashTable.print_table\u001b[0;34m(self)\u001b[0m\n\u001b[1;32m     16\u001b[0m \u001b[38;5;28;01mdef\u001b[39;00m \u001b[38;5;21mprint_table\u001b[39m(\u001b[38;5;28mself\u001b[39m):\n\u001b[0;32m---> 17\u001b[0m     \u001b[38;5;28;01mfor\u001b[39;00m i, val \u001b[38;5;129;01min\u001b[39;00m \u001b[38;5;28menumerate\u001b[39m(\u001b[38;5;28;43mself\u001b[39;49m\u001b[38;5;241;43m.\u001b[39;49m\u001b[43mdata_map\u001b[49m): \n\u001b[1;32m     18\u001b[0m         \u001b[38;5;28mprint\u001b[39m(i, \u001b[38;5;124m\"\u001b[39m\u001b[38;5;124m: \u001b[39m\u001b[38;5;124m\"\u001b[39m, val)\n",
      "\u001b[0;31mAttributeError\u001b[0m: 'HashTable' object has no attribute 'data_map'"
     ]
    }
   ],
   "source": [
    "class HashTable:\n",
    "    ## WRITE HT CONSTRUCTOR HERE ##\n",
    "    #                             #\n",
    "    #                             #\n",
    "    ###############################\n",
    "\n",
    "\n",
    "\n",
    "# DO NOT EDIT CODE BELOW THIS LINE \n",
    "    def __hash(self, key):\n",
    "        my_hash = 0\n",
    "        for letter in key:\n",
    "            my_hash = (my_hash + ord(letter) * 23) % len(self.data_map)\n",
    "        return my_hash  \n",
    "\n",
    "    def print_table(self):\n",
    "        for i, val in enumerate(self.data_map): \n",
    "            print(i, \": \", val)\n",
    "\n",
    "        \n",
    "my_hash_table = HashTable()\n",
    "\n",
    "my_hash_table.print_table()\n",
    "\n",
    "\n",
    "\"\"\"\n",
    "    EXPECTED OUTPUT:\n",
    "    ----------------\n",
    "    0 :  None\n",
    "    1 :  None\n",
    "    2 :  None\n",
    "    3 :  None\n",
    "    4 :  None\n",
    "    5 :  None\n",
    "    6 :  None\n",
    "\n",
    "\"\"\";"
   ]
  },
  {
   "cell_type": "markdown",
   "id": "48b3c3bf",
   "metadata": {
    "heading_collapsed": true
   },
   "source": [
    "## Set "
   ]
  },
  {
   "cell_type": "markdown",
   "id": "118cc53b",
   "metadata": {
    "hidden": true
   },
   "source": []
  },
  {
   "cell_type": "code",
   "execution_count": 2,
   "id": "131f84ab",
   "metadata": {
    "hidden": true
   },
   "outputs": [
    {
     "ename": "AttributeError",
     "evalue": "'HashTable' object has no attribute 'set_item'",
     "output_type": "error",
     "traceback": [
      "\u001b[0;31m---------------------------------------------------------------------------\u001b[0m",
      "\u001b[0;31mAttributeError\u001b[0m                            Traceback (most recent call last)",
      "Cell \u001b[0;32mIn [2], line 27\u001b[0m\n\u001b[1;32m     15\u001b[0m     \u001b[38;5;66;03m## WRITE SET_ITEM METHOD HERE ##\u001b[39;00m\n\u001b[1;32m     16\u001b[0m     \u001b[38;5;66;03m#                              #\u001b[39;00m\n\u001b[1;32m     17\u001b[0m     \u001b[38;5;66;03m#                              #\u001b[39;00m\n\u001b[0;32m   (...)\u001b[0m\n\u001b[1;32m     23\u001b[0m \n\u001b[1;32m     24\u001b[0m \u001b[38;5;66;03m# DO NOT EDIT CODE BELOW THIS LINE\u001b[39;00m\n\u001b[1;32m     25\u001b[0m my_hash_table \u001b[38;5;241m=\u001b[39m HashTable()\n\u001b[0;32m---> 27\u001b[0m \u001b[43mmy_hash_table\u001b[49m\u001b[38;5;241;43m.\u001b[39;49m\u001b[43mset_item\u001b[49m(\u001b[38;5;124m'\u001b[39m\u001b[38;5;124mbolts\u001b[39m\u001b[38;5;124m'\u001b[39m, \u001b[38;5;241m1400\u001b[39m)\n\u001b[1;32m     28\u001b[0m my_hash_table\u001b[38;5;241m.\u001b[39mset_item(\u001b[38;5;124m'\u001b[39m\u001b[38;5;124mwashers\u001b[39m\u001b[38;5;124m'\u001b[39m, \u001b[38;5;241m50\u001b[39m)\n\u001b[1;32m     29\u001b[0m my_hash_table\u001b[38;5;241m.\u001b[39mset_item(\u001b[38;5;124m'\u001b[39m\u001b[38;5;124mlumber\u001b[39m\u001b[38;5;124m'\u001b[39m, \u001b[38;5;241m70\u001b[39m)\n",
      "\u001b[0;31mAttributeError\u001b[0m: 'HashTable' object has no attribute 'set_item'"
     ]
    }
   ],
   "source": [
    "class HashTable:\n",
    "    def __init__(self, size = 7):\n",
    "        self.data_map = [None] * size\n",
    "\n",
    "    def print_table(self):\n",
    "        for i, val in enumerate(self.data_map): \n",
    "            print(i, \": \", val)\n",
    "      \n",
    "    def __hash(self, key):\n",
    "        my_hash = 0\n",
    "        for letter in key:\n",
    "            my_hash = (my_hash + ord(letter) * 23) % len(self.data_map)\n",
    "        return my_hash  \n",
    "    \n",
    "    ## WRITE SET_ITEM METHOD HERE ##\n",
    "    #                              #\n",
    "    #                              #\n",
    "    #                              #\n",
    "    #                              #\n",
    "    ################################\n",
    "\n",
    "\n",
    "my_hash_table = HashTable()\n",
    "\n",
    "my_hash_table.set_item('bolts', 1400)\n",
    "my_hash_table.set_item('washers', 50)\n",
    "my_hash_table.set_item('lumber', 70)\n",
    "\n",
    "my_hash_table.print_table()\n",
    "\n",
    "\n",
    "\n",
    "\"\"\"\n",
    "    EXPECTED OUTPUT:\n",
    "    ----------------\n",
    "    0 :  None\n",
    "    1 :  None\n",
    "    2 :  None\n",
    "    3 :  None\n",
    "    4 :  [['bolts', 1400], ['washers', 50]]\n",
    "    5 :  None\n",
    "    6 :  [['lumber', 70]]\n",
    "\n",
    "\"\"\";"
   ]
  },
  {
   "cell_type": "markdown",
   "id": "20b5992d",
   "metadata": {
    "heading_collapsed": true
   },
   "source": [
    "## Get"
   ]
  },
  {
   "cell_type": "markdown",
   "id": "3dfbc1b6",
   "metadata": {
    "hidden": true
   },
   "source": []
  },
  {
   "cell_type": "code",
   "execution_count": null,
   "id": "fa53cdba",
   "metadata": {
    "hidden": true
   },
   "outputs": [],
   "source": [
    "class HashTable:\n",
    "    def __init__(self, size = 7):\n",
    "        self.data_map = [None] * size\n",
    "      \n",
    "    def __hash(self, key):\n",
    "        my_hash = 0\n",
    "        for letter in key:\n",
    "            my_hash = (my_hash + ord(letter) * 23) % len(self.data_map)\n",
    "        return my_hash  \n",
    "\n",
    "    def print_table(self):\n",
    "        for i, val in enumerate(self.data_map): \n",
    "            print(i, \": \", val)\n",
    "    \n",
    "    def set_item(self, key, value):\n",
    "        index = self.__hash(key)\n",
    "        if self.data_map[index] == None:\n",
    "            self.data_map[index] = []\n",
    "        self.data_map[index].append([key, value])\n",
    "    \n",
    "    ## WRITE GET_ITEM METHOD HERE ##\n",
    "    #                              #\n",
    "    #                              #\n",
    "    #                              #\n",
    "    #                              #\n",
    "    ################################\n",
    "\n",
    "\n",
    "\n",
    "# DO NOT EDIT CODE BELOW THIS LINE\n",
    "my_hash_table = HashTable()\n",
    "\n",
    "my_hash_table.set_item('bolts', 1400)\n",
    "my_hash_table.set_item('washers', 50)\n",
    "\n",
    "print('Bolts:', my_hash_table.get_item('bolts'))\n",
    "print('Washers:', my_hash_table.get_item('washers'))\n",
    "print('Lumber:', my_hash_table.get_item('lumber'))\n",
    "\n",
    "\n",
    "\n",
    "\"\"\"\n",
    "    EXPECTED OUTPUT:\n",
    "    ----------------\n",
    "    Bolts: 1400\n",
    "    Washers: 50\n",
    "    Lumber: None\n",
    "\n",
    "\"\"\";"
   ]
  },
  {
   "cell_type": "markdown",
   "id": "af211a39",
   "metadata": {
    "heading_collapsed": true
   },
   "source": [
    "## Keys"
   ]
  },
  {
   "cell_type": "markdown",
   "id": "8e24ca2f",
   "metadata": {
    "hidden": true
   },
   "source": []
  },
  {
   "cell_type": "code",
   "execution_count": 3,
   "id": "d641274e",
   "metadata": {
    "hidden": true,
    "scrolled": true
   },
   "outputs": [
    {
     "ename": "AttributeError",
     "evalue": "'HashTable' object has no attribute 'keys'",
     "output_type": "error",
     "traceback": [
      "\u001b[0;31m---------------------------------------------------------------------------\u001b[0m",
      "\u001b[0;31mAttributeError\u001b[0m                            Traceback (most recent call last)",
      "Cell \u001b[0;32mIn [3], line 45\u001b[0m\n\u001b[1;32m     42\u001b[0m my_hash_table\u001b[38;5;241m.\u001b[39mset_item(\u001b[38;5;124m'\u001b[39m\u001b[38;5;124mwashers\u001b[39m\u001b[38;5;124m'\u001b[39m, \u001b[38;5;241m50\u001b[39m)\n\u001b[1;32m     43\u001b[0m my_hash_table\u001b[38;5;241m.\u001b[39mset_item(\u001b[38;5;124m'\u001b[39m\u001b[38;5;124mlumber\u001b[39m\u001b[38;5;124m'\u001b[39m, \u001b[38;5;241m70\u001b[39m)\n\u001b[0;32m---> 45\u001b[0m \u001b[38;5;28mprint\u001b[39m(\u001b[43mmy_hash_table\u001b[49m\u001b[38;5;241;43m.\u001b[39;49m\u001b[43mkeys\u001b[49m())\n\u001b[1;32m     49\u001b[0m \u001b[38;5;124;03m\"\"\"\u001b[39;00m\n\u001b[1;32m     50\u001b[0m \u001b[38;5;124;03m    EXPECTED OUTPUT:\u001b[39;00m\n\u001b[1;32m     51\u001b[0m \u001b[38;5;124;03m    ----------------\u001b[39;00m\n\u001b[1;32m     52\u001b[0m \u001b[38;5;124;03m    ['bolts', 'washers', 'lumber']\u001b[39;00m\n\u001b[1;32m     53\u001b[0m \n\u001b[1;32m     54\u001b[0m \u001b[38;5;124;03m\"\"\"\u001b[39;00m\n",
      "\u001b[0;31mAttributeError\u001b[0m: 'HashTable' object has no attribute 'keys'"
     ]
    }
   ],
   "source": [
    "class HashTable:\n",
    "    def __init__(self, size = 7):\n",
    "        self.data_map = [None] * size\n",
    "      \n",
    "    def __hash(self, key):\n",
    "        my_hash = 0\n",
    "        for letter in key:\n",
    "            my_hash = (my_hash + ord(letter) * 23) % len(self.data_map)\n",
    "        return my_hash  \n",
    "\n",
    "    def print_table(self):\n",
    "        for i, val in enumerate(self.data_map): \n",
    "            print(i, \": \", val)\n",
    "    \n",
    "    def set_item(self, key, value):\n",
    "        index = self.__hash(key)\n",
    "        if self.data_map[index] == None:\n",
    "            self.data_map[index] = []\n",
    "        self.data_map[index].append([key, value])\n",
    "    \n",
    "    def get_item(self, key):\n",
    "        index = self.__hash(key)\n",
    "        if self.data_map[index] is not None:\n",
    "            for i in range(len(self.data_map[index])):\n",
    "                if self.data_map[index][i][0] == key:\n",
    "                    return self.data_map[index][i][1]\n",
    "        return None\n",
    "\n",
    "    ## WRITE KEYS METHOD HERE ##\n",
    "    #                          #\n",
    "    #                          #\n",
    "    #                          #\n",
    "    #                          #\n",
    "    ############################\n",
    "\n",
    "\n",
    "\n",
    "# DO NOT EDIT CODE BELOW THIS LINE\n",
    "my_hash_table = HashTable()\n",
    "\n",
    "my_hash_table.set_item('bolts', 1400)\n",
    "my_hash_table.set_item('washers', 50)\n",
    "my_hash_table.set_item('lumber', 70)\n",
    "\n",
    "print(my_hash_table.keys())\n",
    "\n",
    "\n",
    "\n",
    "\"\"\"\n",
    "    EXPECTED OUTPUT:\n",
    "    ----------------\n",
    "    ['bolts', 'washers', 'lumber']\n",
    "\n",
    "\"\"\";"
   ]
  },
  {
   "cell_type": "markdown",
   "id": "f5e0f001",
   "metadata": {
    "heading_collapsed": true
   },
   "source": [
    "## Bonus Interview Question"
   ]
  },
  {
   "cell_type": "markdown",
   "id": "dfc81a3c",
   "metadata": {
    "hidden": true
   },
   "source": [
    "Write second for loop that creates an O(n) solution that tests to see if two lists have an item in common:"
   ]
  },
  {
   "cell_type": "code",
   "execution_count": 4,
   "id": "6bc362e9",
   "metadata": {
    "hidden": true
   },
   "outputs": [
    {
     "name": "stdout",
     "output_type": "stream",
     "text": [
      "False\n"
     ]
    }
   ],
   "source": [
    "def item_in_common(list1, list2):\n",
    "    my_dict = {}\n",
    "    for i in list1:\n",
    "        my_dict[i] = True\n",
    "\n",
    "    ## WRITE 2ND FOR LOOP HERE ##\n",
    "    #                           #\n",
    "    #                           #\n",
    "    #############################\n",
    "\n",
    "    return False\n",
    "\n",
    "\n",
    "\n",
    "list1 = [1,3,5]\n",
    "list2 = [2,4,5]\n",
    "\n",
    "\n",
    "print(item_in_common(list1, list2))\n",
    "\n",
    "\n",
    "\n",
    "\"\"\"\n",
    "    EXPECTED OUTPUT:\n",
    "    ----------------\n",
    "    True\n",
    "\n",
    "\"\"\";"
   ]
  }
 ],
 "metadata": {
  "kernelspec": {
   "display_name": "Python 3 (ipykernel)",
   "language": "python",
   "name": "python3"
  },
  "language_info": {
   "codemirror_mode": {
    "name": "ipython",
    "version": 3
   },
   "file_extension": ".py",
   "mimetype": "text/x-python",
   "name": "python",
   "nbconvert_exporter": "python",
   "pygments_lexer": "ipython3",
   "version": "3.10.6"
  },
  "toc": {
   "base_numbering": 1,
   "nav_menu": {},
   "number_sections": true,
   "sideBar": true,
   "skip_h1_title": false,
   "title_cell": "Table of Contents",
   "title_sidebar": "Contents",
   "toc_cell": false,
   "toc_position": {},
   "toc_section_display": true,
   "toc_window_display": false
  }
 },
 "nbformat": 4,
 "nbformat_minor": 5
}
