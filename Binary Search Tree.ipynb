{
 "cells": [
  {
   "cell_type": "markdown",
   "id": "763e73c8",
   "metadata": {},
   "source": [
    "# Building a Binary Search Tree"
   ]
  },
  {
   "cell_type": "markdown",
   "id": "015e3f76",
   "metadata": {
    "heading_collapsed": true
   },
   "source": [
    "## Constuctor"
   ]
  },
  {
   "cell_type": "markdown",
   "id": "c618a986",
   "metadata": {
    "hidden": true
   },
   "source": []
  },
  {
   "cell_type": "code",
   "execution_count": 2,
   "id": "bbe29b8e",
   "metadata": {
    "hidden": true
   },
   "outputs": [
    {
     "name": "stdout",
     "output_type": "stream",
     "text": [
      "None\n"
     ]
    }
   ],
   "source": [
    "class Node:\n",
    "    def __init__(self, value):\n",
    "        self.value = value\n",
    "        self.left = None\n",
    "        self.right = None\n",
    "        \n",
    "\n",
    "class BinarySearchTree:\n",
    "    def __init__(self):\n",
    "        self.root = None\n",
    "\n",
    "\n",
    "my_tree = BinarySearchTree()\n",
    "\n",
    "print(my_tree.root)\n",
    "\n",
    "\n",
    " \n",
    "\"\"\"\n",
    "    EXPECTED OUTPUT:\n",
    "    ----------------\n",
    "    None\n",
    "\n",
    "\"\"\";"
   ]
  },
  {
   "cell_type": "markdown",
   "id": "2d4873aa",
   "metadata": {
    "heading_collapsed": true
   },
   "source": [
    "## Insert"
   ]
  },
  {
   "cell_type": "markdown",
   "id": "b646de7f",
   "metadata": {
    "hidden": true
   },
   "source": []
  },
  {
   "cell_type": "code",
   "execution_count": 1,
   "id": "585f514a",
   "metadata": {
    "hidden": true
   },
   "outputs": [
    {
     "ename": "AttributeError",
     "evalue": "'BinarySearchTree' object has no attribute 'insert'",
     "output_type": "error",
     "traceback": [
      "\u001b[0;31m---------------------------------------------------------------------------\u001b[0m",
      "\u001b[0;31mAttributeError\u001b[0m                            Traceback (most recent call last)",
      "Cell \u001b[0;32mIn [1], line 23\u001b[0m\n\u001b[1;32m     12\u001b[0m     \u001b[38;5;66;03m## WRITE INSERT METHOD HERE ##\u001b[39;00m\n\u001b[1;32m     13\u001b[0m     \u001b[38;5;66;03m#                            #\u001b[39;00m\n\u001b[1;32m     14\u001b[0m     \u001b[38;5;66;03m#                            #\u001b[39;00m\n\u001b[0;32m   (...)\u001b[0m\n\u001b[1;32m     20\u001b[0m \n\u001b[1;32m     21\u001b[0m \u001b[38;5;66;03m# DO NOT EDIT CODE BELOW THIS LINE\u001b[39;00m\n\u001b[1;32m     22\u001b[0m my_tree \u001b[38;5;241m=\u001b[39m BinarySearchTree()\n\u001b[0;32m---> 23\u001b[0m \u001b[43mmy_tree\u001b[49m\u001b[38;5;241;43m.\u001b[39;49m\u001b[43minsert\u001b[49m(\u001b[38;5;241m2\u001b[39m)\n\u001b[1;32m     24\u001b[0m my_tree\u001b[38;5;241m.\u001b[39minsert(\u001b[38;5;241m1\u001b[39m)\n\u001b[1;32m     25\u001b[0m my_tree\u001b[38;5;241m.\u001b[39minsert(\u001b[38;5;241m3\u001b[39m)\n",
      "\u001b[0;31mAttributeError\u001b[0m: 'BinarySearchTree' object has no attribute 'insert'"
     ]
    }
   ],
   "source": [
    "class Node:\n",
    "    def __init__(self, value):\n",
    "        self.value = value\n",
    "        self.left = None\n",
    "        self.right = None\n",
    "        \n",
    "\n",
    "class BinarySearchTree:\n",
    "    def __init__(self):\n",
    "        self.root = None\n",
    "\n",
    "    ## WRITE INSERT METHOD HERE ##\n",
    "    #                            #\n",
    "    #                            #\n",
    "    #                            #\n",
    "    #                            #\n",
    "    ##############################\n",
    "\n",
    "\n",
    "\n",
    "# DO NOT EDIT CODE BELOW THIS LINE\n",
    "my_tree = BinarySearchTree()\n",
    "my_tree.insert(2)\n",
    "my_tree.insert(1)\n",
    "my_tree.insert(3)\n",
    "\n",
    "\"\"\"\n",
    "    THE LINES ABOVE CREATE THIS TREE:\n",
    "                 2\n",
    "                / \\\n",
    "               1   3\n",
    "\"\"\"\n",
    "\n",
    "\n",
    "print('Root:', my_tree.root.value)            \n",
    "print('Root->Left:', my_tree.root.left.value)        \n",
    "print('Root->Right:', my_tree.root.right.value)        \n",
    "\n",
    "\n",
    "\n",
    "\"\"\"\n",
    "    EXPECTED OUTPUT:\n",
    "    ----------------\n",
    "    Root: 2\n",
    "    Root->Left: 1\n",
    "    Root->Right: 3\n",
    "\n",
    "\"\"\";"
   ]
  },
  {
   "cell_type": "markdown",
   "id": "3cb65bd7",
   "metadata": {
    "heading_collapsed": true
   },
   "source": [
    "## Contains "
   ]
  },
  {
   "cell_type": "markdown",
   "id": "8159a2a9",
   "metadata": {
    "hidden": true
   },
   "source": []
  },
  {
   "cell_type": "code",
   "execution_count": 3,
   "id": "453181b4",
   "metadata": {
    "hidden": true
   },
   "outputs": [
    {
     "name": "stdout",
     "output_type": "stream",
     "text": [
      "BST Contains 27:\n"
     ]
    },
    {
     "ename": "AttributeError",
     "evalue": "'BinarySearchTree' object has no attribute 'contains'",
     "output_type": "error",
     "traceback": [
      "\u001b[0;31m---------------------------------------------------------------------------\u001b[0m",
      "\u001b[0;31mAttributeError\u001b[0m                            Traceback (most recent call last)",
      "Cell \u001b[0;32mIn [3], line 52\u001b[0m\n\u001b[1;32m     49\u001b[0m my_tree\u001b[38;5;241m.\u001b[39minsert(\u001b[38;5;241m82\u001b[39m)\n\u001b[1;32m     51\u001b[0m \u001b[38;5;28mprint\u001b[39m(\u001b[38;5;124m'\u001b[39m\u001b[38;5;124mBST Contains 27:\u001b[39m\u001b[38;5;124m'\u001b[39m)\n\u001b[0;32m---> 52\u001b[0m \u001b[38;5;28mprint\u001b[39m(\u001b[43mmy_tree\u001b[49m\u001b[38;5;241;43m.\u001b[39;49m\u001b[43mcontains\u001b[49m(\u001b[38;5;241m27\u001b[39m))\n\u001b[1;32m     54\u001b[0m \u001b[38;5;28mprint\u001b[39m(\u001b[38;5;124m'\u001b[39m\u001b[38;5;130;01m\\n\u001b[39;00m\u001b[38;5;124mBST Contains 17:\u001b[39m\u001b[38;5;124m'\u001b[39m)\n\u001b[1;32m     55\u001b[0m \u001b[38;5;28mprint\u001b[39m(my_tree\u001b[38;5;241m.\u001b[39mcontains(\u001b[38;5;241m17\u001b[39m))\n",
      "\u001b[0;31mAttributeError\u001b[0m: 'BinarySearchTree' object has no attribute 'contains'"
     ]
    }
   ],
   "source": [
    "class Node:\n",
    "    def __init__(self, value):\n",
    "        self.value = value\n",
    "        self.left = None\n",
    "        self.right = None\n",
    "        \n",
    "\n",
    "class BinarySearchTree:\n",
    "    def __init__(self):\n",
    "        self.root = None\n",
    "\n",
    "    def insert(self, value):\n",
    "        new_node = Node(value)\n",
    "        if self.root is None:\n",
    "            self.root = new_node\n",
    "            return True\n",
    "        temp = self.root\n",
    "        while (True):\n",
    "            if new_node.value == temp.value:\n",
    "                return False\n",
    "            if new_node.value < temp.value:\n",
    "                if temp.left is None:\n",
    "                    temp.left = new_node\n",
    "                    return True\n",
    "                temp = temp.left\n",
    "            else: \n",
    "                if temp.right is None:\n",
    "                    temp.right = new_node\n",
    "                    return True\n",
    "                temp = temp.right\n",
    "\n",
    "    ## WRITE CONTAINS METHOD HERE ##\n",
    "    #                              #\n",
    "    #                              #\n",
    "    #                              #\n",
    "    #                              #\n",
    "    ################################\n",
    "\n",
    "\n",
    "\n",
    "# DO NOT EDIT CODE BELOW THIS LINE\n",
    "my_tree = BinarySearchTree()\n",
    "my_tree.insert(47)\n",
    "my_tree.insert(21)\n",
    "my_tree.insert(76)\n",
    "my_tree.insert(18)\n",
    "my_tree.insert(27)\n",
    "my_tree.insert(52)\n",
    "my_tree.insert(82)\n",
    "\n",
    "print('BST Contains 27:')\n",
    "print(my_tree.contains(27))\n",
    "\n",
    "print('\\nBST Contains 17:')\n",
    "print(my_tree.contains(17))\n",
    "                \n",
    "\n",
    "\n",
    "\"\"\"\n",
    "    EXPECTED OUTPUT:\n",
    "    ----------------\n",
    "    BST Contains 27:\n",
    "    True\n",
    "\n",
    "    BST Contains 17:\n",
    "    False\n",
    "\n",
    "\"\"\";"
   ]
  },
  {
   "cell_type": "markdown",
   "id": "1d07c2b3",
   "metadata": {
    "heading_collapsed": true
   },
   "source": [
    "## Minimum Value"
   ]
  },
  {
   "cell_type": "markdown",
   "id": "d7572ae8",
   "metadata": {
    "hidden": true
   },
   "source": []
  },
  {
   "cell_type": "code",
   "execution_count": 4,
   "id": "94dc2ce7",
   "metadata": {
    "hidden": true
   },
   "outputs": [
    {
     "name": "stdout",
     "output_type": "stream",
     "text": [
      "Minimum Value in Tree:\n"
     ]
    },
    {
     "ename": "AttributeError",
     "evalue": "'BinarySearchTree' object has no attribute 'min_value_node'",
     "output_type": "error",
     "traceback": [
      "\u001b[0;31m---------------------------------------------------------------------------\u001b[0m",
      "\u001b[0;31mAttributeError\u001b[0m                            Traceback (most recent call last)",
      "Cell \u001b[0;32mIn [4], line 64\u001b[0m\n\u001b[1;32m     60\u001b[0m my_tree\u001b[38;5;241m.\u001b[39minsert(\u001b[38;5;241m82\u001b[39m)\n\u001b[1;32m     63\u001b[0m \u001b[38;5;28mprint\u001b[39m(\u001b[38;5;124m'\u001b[39m\u001b[38;5;124mMinimum Value in Tree:\u001b[39m\u001b[38;5;124m'\u001b[39m)\n\u001b[0;32m---> 64\u001b[0m \u001b[38;5;28mprint\u001b[39m( \u001b[43mmy_tree\u001b[49m\u001b[38;5;241;43m.\u001b[39;49m\u001b[43mmin_value_node\u001b[49m(my_tree\u001b[38;5;241m.\u001b[39mroot)\u001b[38;5;241m.\u001b[39mvalue )\n\u001b[1;32m     68\u001b[0m \u001b[38;5;124;03m\"\"\"\u001b[39;00m\n\u001b[1;32m     69\u001b[0m \u001b[38;5;124;03m    EXPECTED OUTPUT:\u001b[39;00m\n\u001b[1;32m     70\u001b[0m \u001b[38;5;124;03m    ----------------\u001b[39;00m\n\u001b[0;32m   (...)\u001b[0m\n\u001b[1;32m     73\u001b[0m \n\u001b[1;32m     74\u001b[0m \u001b[38;5;124;03m\"\"\"\u001b[39;00m\n",
      "\u001b[0;31mAttributeError\u001b[0m: 'BinarySearchTree' object has no attribute 'min_value_node'"
     ]
    }
   ],
   "source": [
    "class Node:\n",
    "    def __init__(self, value):\n",
    "        self.value = value\n",
    "        self.left = None\n",
    "        self.right = None\n",
    "        \n",
    "\n",
    "class BinarySearchTree:\n",
    "    def __init__(self):\n",
    "        self.root = None\n",
    "\n",
    "    def insert(self, value):\n",
    "        new_node = Node(value)\n",
    "        if self.root is None:\n",
    "            self.root = new_node\n",
    "            return True\n",
    "        temp = self.root\n",
    "        while (True):\n",
    "            if new_node.value == temp.value:\n",
    "                return False\n",
    "            if new_node.value < temp.value:\n",
    "                if temp.left is None:\n",
    "                    temp.left = new_node\n",
    "                    return True\n",
    "                temp = temp.left\n",
    "            else: \n",
    "                if temp.right is None:\n",
    "                    temp.right = new_node\n",
    "                    return True\n",
    "                temp = temp.right\n",
    "\n",
    "    def contains(self, value):\n",
    "        temp = self.root\n",
    "        while temp is not None:\n",
    "            if value < temp.value:\n",
    "                temp = temp.left\n",
    "            elif value > temp.value:\n",
    "                temp = temp.right\n",
    "            else:\n",
    "                return True\n",
    "        return False\n",
    "    \n",
    "    ## WRITE MIN_VALUE_NODE METHOD HERE ##\n",
    "    #                                    #\n",
    "    #                                    #\n",
    "    #                                    #\n",
    "    #                                    #\n",
    "    ######################################\n",
    "\n",
    "\n",
    "\n",
    "# DO NOT EDIT CODE BELOW THIS LINE\n",
    "my_tree = BinarySearchTree()\n",
    "my_tree.insert(47)\n",
    "my_tree.insert(21)\n",
    "my_tree.insert(76)\n",
    "my_tree.insert(18)\n",
    "my_tree.insert(27)\n",
    "my_tree.insert(52)\n",
    "my_tree.insert(82)\n",
    "\n",
    "\n",
    "print('Minimum Value in Tree:')\n",
    "print( my_tree.min_value_node(my_tree.root).value )\n",
    "\n",
    "            \n",
    "\n",
    "\"\"\"\n",
    "    EXPECTED OUTPUT:\n",
    "    ----------------\n",
    "    Minimum Value in Tree:\n",
    "    18\n",
    "\n",
    "\"\"\";"
   ]
  }
 ],
 "metadata": {
  "kernelspec": {
   "display_name": "Python 3 (ipykernel)",
   "language": "python",
   "name": "python3"
  },
  "language_info": {
   "codemirror_mode": {
    "name": "ipython",
    "version": 3
   },
   "file_extension": ".py",
   "mimetype": "text/x-python",
   "name": "python",
   "nbconvert_exporter": "python",
   "pygments_lexer": "ipython3",
   "version": "3.10.6"
  },
  "toc": {
   "base_numbering": 1,
   "nav_menu": {},
   "number_sections": true,
   "sideBar": true,
   "skip_h1_title": false,
   "title_cell": "Table of Contents",
   "title_sidebar": "Contents",
   "toc_cell": false,
   "toc_position": {},
   "toc_section_display": true,
   "toc_window_display": false
  }
 },
 "nbformat": 4,
 "nbformat_minor": 5
}
