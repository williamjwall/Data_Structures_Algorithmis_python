{
 "cells": [
  {
   "cell_type": "markdown",
   "id": "58288d42",
   "metadata": {},
   "source": [
    "# Linked List exercises"
   ]
  },
  {
   "cell_type": "markdown",
   "id": "da42329a",
   "metadata": {
    "heading_collapsed": true
   },
   "source": [
    "### <b> Exercise 1: Constructor"
   ]
  },
  {
   "cell_type": "markdown",
   "id": "99d08113",
   "metadata": {
    "hidden": true
   },
   "source": [
    "Building a linked list, but just with the head, tail, and one node. Both head and tail are pointing at the one node "
   ]
  },
  {
   "cell_type": "code",
   "execution_count": 7,
   "id": "8edf1116",
   "metadata": {
    "hidden": true
   },
   "outputs": [
    {
     "name": "stdout",
     "output_type": "stream",
     "text": [
      "Head: 4\n",
      "Tail: 4\n",
      "Length: 1\n"
     ]
    }
   ],
   "source": [
    "class Node:\n",
    "    def __init__(self, value):\n",
    "        self.value = value\n",
    "        self.next = None\n",
    "        \n",
    "class LinkedList:\n",
    "    def __init__(self, value):\n",
    "        new_node = Node(value)\n",
    "        self.head = new_node\n",
    "        self.tail = new_node\n",
    "        self.length = 1\n",
    "    \n",
    "\n",
    "my_linked_list = LinkedList(4)\n",
    "\n",
    "print('Head:', my_linked_list.head.value)\n",
    "print('Tail:', my_linked_list.tail.value)\n",
    "print('Length:', my_linked_list.length)\n",
    "\n",
    "\n",
    "#EXPECTED OUTPUT: Head: 4, Tail: 4, Length: 1"
   ]
  },
  {
   "cell_type": "markdown",
   "id": "98891d73",
   "metadata": {
    "heading_collapsed": true
   },
   "source": [
    "### <b>Exercise 2: Append"
   ]
  },
  {
   "cell_type": "markdown",
   "id": "7c150d71",
   "metadata": {
    "hidden": true
   },
   "source": [
    "This is to append a new node to the head"
   ]
  },
  {
   "cell_type": "code",
   "execution_count": 12,
   "id": "c0358cc0",
   "metadata": {
    "hidden": true
   },
   "outputs": [
    {
     "name": "stdout",
     "output_type": "stream",
     "text": [
      "Head: 1\n",
      "Tail: 2\n",
      "Length: 2 \n",
      "\n",
      "Linked List:\n",
      "1\n",
      "2\n"
     ]
    }
   ],
   "source": [
    "class Node:\n",
    "    def __init__(self, value):\n",
    "        self.value = value\n",
    "        self.next = None\n",
    "        \n",
    "class LinkedList:\n",
    "    def __init__(self, value):\n",
    "        new_node = Node(value)\n",
    "        self.head = new_node\n",
    "        self.tail = new_node\n",
    "        self.length = 1\n",
    "\n",
    "    def print_list(self):\n",
    "        temp = self.head\n",
    "        while temp is not None:\n",
    "            print(temp.value)\n",
    "            temp = temp.next\n",
    "            \n",
    "    def make_empty(self):\n",
    "        self.head = None\n",
    "        self.tail = None\n",
    "        self.length = 0\n",
    "        \n",
    "    def append(self, value):\n",
    "        new_node = Node(value)\n",
    "        if self.head == None:\n",
    "            self.head = new_node\n",
    "            self.tail = new_node\n",
    "        else:\n",
    "            self.tail.next = new_node\n",
    "            self.tail = new_node\n",
    "        \n",
    "        self.length += 1\n",
    "        \n",
    "\n",
    "my_linked_list = LinkedList(1)\n",
    "my_linked_list.make_empty()\n",
    "\n",
    "my_linked_list.append(1)\n",
    "my_linked_list.append(2)\n",
    "\n",
    "print('Head:', my_linked_list.head.value)\n",
    "print('Tail:', my_linked_list.tail.value)\n",
    "print('Length:', my_linked_list.length, '\\n')\n",
    "\n",
    "print('Linked List:')\n",
    "my_linked_list.print_list()\n",
    "\n",
    "#EXPECTED OUTPUT: \n",
    "#Head: 1, Tail: 2, Length: 2 \n",
    "#Linked List:1, 2"
   ]
  },
  {
   "cell_type": "markdown",
   "id": "a5c96dfc",
   "metadata": {
    "heading_collapsed": true
   },
   "source": [
    "### <b>Exercise 3: Pop"
   ]
  },
  {
   "cell_type": "markdown",
   "id": "3475704b",
   "metadata": {
    "hidden": true
   },
   "source": [
    "Note \n",
    "- In order to pop off the last node and return it we need to reset tail to the prior node, and from there we need to go from the head to get to the node that came before the one we popped off.\n",
    "- We use a temp and pre variable to track the prior node and once we find the end we point the tail in pres direction\n",
    "- We add the last part in again \"if self.length == 0\" to take in account if the linked list was length one before"
   ]
  },
  {
   "cell_type": "code",
   "execution_count": 21,
   "id": "0339704b",
   "metadata": {
    "hidden": true
   },
   "outputs": [
    {
     "name": "stdout",
     "output_type": "stream",
     "text": [
      "2\n",
      "1\n",
      "None\n"
     ]
    }
   ],
   "source": [
    "class Node:\n",
    "    def __init__(self, value):\n",
    "        self.value = value\n",
    "        self.next = None\n",
    "        \n",
    "class LinkedList:\n",
    "    def __init__(self, value):\n",
    "        new_node = Node(value)\n",
    "        self.head = new_node\n",
    "        self.tail = new_node\n",
    "        self.length = 1\n",
    "\n",
    "    def print_list(self):\n",
    "        temp = self.head\n",
    "        while temp is not None:\n",
    "            print(temp.value)\n",
    "            temp = temp.next\n",
    "        \n",
    "    def append(self, value):\n",
    "        new_node = Node(value)\n",
    "        if self.length == 0:\n",
    "            self.head = new_node\n",
    "            self.tail = new_node\n",
    "        else:\n",
    "            self.tail.next = new_node\n",
    "            self.tail = new_node\n",
    "        self.length += 1\n",
    "        return True\n",
    "\n",
    "    def pop(self):\n",
    "        if self.length == 0:\n",
    "            return None\n",
    "        temp = self.head\n",
    "        pre = self.head\n",
    "        while(temp.next):\n",
    "            pre = temp\n",
    "            temp = temp.next\n",
    "        self.tail = pre\n",
    "        self.tail.next = None\n",
    "        self.length -= 1\n",
    "        if self.length == 0:\n",
    "            self.head = None\n",
    "            self.tail = None\n",
    "        return temp\n",
    "\n",
    "    \n",
    "my_linked_list = LinkedList(1)\n",
    "my_linked_list.append(2)\n",
    "\n",
    "# (2) Items - Returns 2 Node\n",
    "print(my_linked_list.pop().value)\n",
    "# (1) Item -  Returns 1 Node\n",
    "print(my_linked_list.pop().value)\n",
    "# (0) Items - Returns None\n",
    "print(my_linked_list.pop())\n",
    "\n",
    "\n",
    "#EXPECTED OUTPUT: 2, 1, None"
   ]
  },
  {
   "cell_type": "markdown",
   "id": "907f2237",
   "metadata": {
    "heading_collapsed": true
   },
   "source": [
    "### <b>Exercise 3: Prepend"
   ]
  },
  {
   "cell_type": "code",
   "execution_count": null,
   "id": "d3633ff7",
   "metadata": {
    "hidden": true
   },
   "outputs": [],
   "source": [
    "class Node:\n",
    "    def __init__(self, value):\n",
    "        self.value = value\n",
    "        self.next = None\n",
    "        \n",
    "\n",
    "class LinkedList:\n",
    "    def __init__(self, value):\n",
    "        new_node = Node(value)\n",
    "        self.head = new_node\n",
    "        self.tail = new_node\n",
    "        self.length = 1\n",
    "\n",
    "    def print_list(self):\n",
    "        temp = self.head\n",
    "        while temp is not None:\n",
    "            print(temp.value)\n",
    "            temp = temp.next\n",
    "        \n",
    "    def append(self, value):\n",
    "        new_node = Node(value)\n",
    "        if self.length == 0:\n",
    "            self.head = new_node\n",
    "            self.tail = new_node\n",
    "        else:\n",
    "            self.tail.next = new_node\n",
    "            self.tail = new_node\n",
    "        self.length += 1\n",
    "        return True\n",
    "\n",
    "    def pop(self):\n",
    "        if self.length == 0:\n",
    "            return None\n",
    "        temp = self.head\n",
    "        pre = self.head\n",
    "        while(temp.next):\n",
    "            pre = temp\n",
    "            temp = temp.next\n",
    "        self.tail = pre\n",
    "        self.tail.next = None\n",
    "        self.length -= 1\n",
    "        if self.length == 0:\n",
    "            self.head = None\n",
    "            self.tail = None\n",
    "        return temp\n",
    "\n",
    "    def prepend(self):\n",
    "        \n",
    "\n",
    "my_linked_list = LinkedList(2)\n",
    "my_linked_list.append(3)\n",
    "\n",
    "print('Before prepend():')\n",
    "print('----------------')\n",
    "print('Head:', my_linked_list.head.value)\n",
    "print('Tail:', my_linked_list.tail.value)\n",
    "print('Length:', my_linked_list.length, '\\n')\n",
    "print('Linked List:')\n",
    "my_linked_list.print_list()\n",
    "\n",
    "\n",
    "my_linked_list.prepend(1)\n",
    "\n",
    "\n",
    "print('\\n\\nAfter prepend():')\n",
    "print('---------------')\n",
    "print('Head:', my_linked_list.head.value)\n",
    "print('Tail:', my_linked_list.tail.value)\n",
    "print('Length:', my_linked_list.length, '\\n')\n",
    "print('Linked List:')\n",
    "my_linked_list.print_list()\n",
    "\n",
    "\n",
    "\n",
    "\"\"\"\n",
    "    EXPECTED OUTPUT:\n",
    "    \n",
    "    Before prepend():\n",
    "    ----------------\n",
    "    Head: 2\n",
    "    Tail: 3\n",
    "    Length: 2 \n",
    "\n",
    "    Linked List:\n",
    "    2\n",
    "    3\n",
    "\n",
    "\n",
    "    After prepend():\n",
    "    ---------------\n",
    "    Head: 1\n",
    "    Tail: 3\n",
    "    Length: 3 \n",
    "\n",
    "    Linked List:\n",
    "    1\n",
    "    2\n",
    "    3   \n",
    "\n",
    "\"\"\""
   ]
  }
 ],
 "metadata": {
  "kernelspec": {
   "display_name": "Python 3 (ipykernel)",
   "language": "python",
   "name": "python3"
  },
  "language_info": {
   "codemirror_mode": {
    "name": "ipython",
    "version": 3
   },
   "file_extension": ".py",
   "mimetype": "text/x-python",
   "name": "python",
   "nbconvert_exporter": "python",
   "pygments_lexer": "ipython3",
   "version": "3.10.6"
  },
  "toc": {
   "base_numbering": 1,
   "nav_menu": {},
   "number_sections": true,
   "sideBar": true,
   "skip_h1_title": false,
   "title_cell": "Table of Contents",
   "title_sidebar": "Contents",
   "toc_cell": false,
   "toc_position": {},
   "toc_section_display": true,
   "toc_window_display": false
  }
 },
 "nbformat": 4,
 "nbformat_minor": 5
}
