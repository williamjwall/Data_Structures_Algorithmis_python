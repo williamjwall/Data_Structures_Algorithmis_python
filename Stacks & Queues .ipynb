{
 "cells": [
  {
   "cell_type": "markdown",
   "id": "083682ce",
   "metadata": {},
   "source": [
    "# Building Stacks and Queues"
   ]
  },
  {
   "cell_type": "markdown",
   "id": "8d45c81b",
   "metadata": {},
   "source": [
    "## Stack"
   ]
  },
  {
   "cell_type": "markdown",
   "id": "843670e7",
   "metadata": {},
   "source": [
    "### Constructor"
   ]
  },
  {
   "cell_type": "markdown",
   "id": "88831455",
   "metadata": {},
   "source": [
    "Building a stack constructor"
   ]
  },
  {
   "cell_type": "code",
   "execution_count": 1,
   "id": "9002b5be",
   "metadata": {},
   "outputs": [
    {
     "name": "stdout",
     "output_type": "stream",
     "text": [
      "Top: 4\n",
      "Height: 1\n"
     ]
    }
   ],
   "source": [
    "class Node:\n",
    "    def __init__(self, value):\n",
    "        self.value = value\n",
    "        self.next = None\n",
    "        \n",
    "\n",
    "class Stack:\n",
    "    def __init__(self, value):\n",
    "        new_node = Node(value)\n",
    "        self.top = new_node\n",
    "        self.height = 1\n",
    "\n",
    "\n",
    "my_stack = Stack(4)\n",
    "\n",
    "print('Top:', my_stack.top.value)\n",
    "print('Height:', my_stack.height)\n",
    "\n",
    "\n",
    "\"\"\"\n",
    "    EXPECTED OUTPUT:\n",
    "    ----------------\n",
    "    Top: 4\n",
    "    Height: 1\n",
    "\n",
    "\"\"\";"
   ]
  },
  {
   "cell_type": "markdown",
   "id": "f7b3e5f0",
   "metadata": {
    "heading_collapsed": true
   },
   "source": [
    "### Push"
   ]
  },
  {
   "cell_type": "markdown",
   "id": "78063c23",
   "metadata": {
    "hidden": true
   },
   "source": []
  },
  {
   "cell_type": "code",
   "execution_count": null,
   "id": "e1d16c10",
   "metadata": {
    "hidden": true
   },
   "outputs": [],
   "source": [
    "class Node:\n",
    "    def __init__(self, value):\n",
    "        self.value = value\n",
    "        self.next = None\n",
    "        \n",
    "\n",
    "class Stack:\n",
    "    def __init__(self, value):\n",
    "        new_node = Node(value)\n",
    "        self.top = new_node\n",
    "        self.height = 1\n",
    "\n",
    "    def print_stack(self):\n",
    "        temp = self.top\n",
    "        while temp is not None:\n",
    "            print(temp.value)\n",
    "            temp = temp.next\n",
    "\n",
    "    ### WRITE PUSH METHOD HERE ###\n",
    "    #                            #\n",
    "    #                            #\n",
    "    #                            #\n",
    "    #                            #\n",
    "    ##############################\n",
    "\n",
    "\n",
    "\n",
    "# DO NOT EDIT CODE BELOW THIS LINE\n",
    "my_stack = Stack(2)\n",
    "\n",
    "print('Stack before push(1):')\n",
    "my_stack.print_stack()\n",
    "\n",
    "my_stack.push(1)\n",
    "\n",
    "print('\\nStack after push(1):')\n",
    "my_stack.print_stack()\n",
    "\n",
    "\n",
    "\n",
    "\"\"\"\n",
    "    EXPECTED OUTPUT:\n",
    "    ----------------\n",
    "    Stack before push(1):\n",
    "    2\n",
    "\n",
    "    Stack after push(1):\n",
    "    1\n",
    "    2   \n",
    "\n",
    "\"\";"
   ]
  },
  {
   "cell_type": "markdown",
   "id": "302bbba5",
   "metadata": {
    "heading_collapsed": true
   },
   "source": [
    "### Pop"
   ]
  },
  {
   "cell_type": "markdown",
   "id": "99e578c1",
   "metadata": {
    "hidden": true
   },
   "source": [
    "    "
   ]
  },
  {
   "cell_type": "code",
   "execution_count": null,
   "id": "5c8ad063",
   "metadata": {
    "hidden": true
   },
   "outputs": [],
   "source": [
    "class Node:\n",
    "    def __init__(self, value):\n",
    "        self.value = value\n",
    "        self.next = None\n",
    "        \n",
    "\n",
    "class Stack:\n",
    "    def __init__(self, value):\n",
    "        new_node = Node(value)\n",
    "        self.top = new_node\n",
    "        self.height = 1\n",
    "\n",
    "    def print_stack(self):\n",
    "        temp = self.top\n",
    "        while temp is not None:\n",
    "            print(temp.value)\n",
    "            temp = temp.next\n",
    "\n",
    "    def push(self, value):\n",
    "        new_node = Node(value)\n",
    "        if self.height == 0:\n",
    "            self.top = new_node\n",
    "        else:\n",
    "            new_node.next = self.top\n",
    "            self.top = new_node\n",
    "        self.height += 1\n",
    "        return True\n",
    "\n",
    "    ### WRITE POP METHOD HERE ###\n",
    "    #                           #\n",
    "    #                           #\n",
    "    #                           #\n",
    "    #                           #\n",
    "    #############################\n",
    "\n",
    "\n",
    "\n",
    "# DO NOT EDIT CODE BELOW THIS LINE\n",
    "my_stack = Stack(4)\n",
    "my_stack.push(3)\n",
    "my_stack.push(2)\n",
    "my_stack.push(1)\n",
    "\n",
    "print('Stack before pop():')\n",
    "my_stack.print_stack()\n",
    "\n",
    "print('\\nPopped node:')\n",
    "print(my_stack.pop().value)\n",
    "\n",
    "print('\\nStack after pop():')\n",
    "my_stack.print_stack()\n",
    "\n",
    "\n",
    "\n",
    "\"\"\"\n",
    "    EXPECTED OUTPUT:\n",
    "    ----------------\n",
    "    Stack before pop():\n",
    "    1\n",
    "    2\n",
    "    3\n",
    "    4\n",
    "\n",
    "    Popped node:\n",
    "    1\n",
    "\n",
    "    Stack after pop():\n",
    "    2\n",
    "    3\n",
    "    4\n",
    "\n",
    "\"\"\";"
   ]
  },
  {
   "cell_type": "markdown",
   "id": "515aec36",
   "metadata": {},
   "source": [
    "## Queue"
   ]
  },
  {
   "cell_type": "markdown",
   "id": "835bc01e",
   "metadata": {
    "heading_collapsed": true
   },
   "source": [
    "### Constructor"
   ]
  },
  {
   "cell_type": "markdown",
   "id": "bf1aee70",
   "metadata": {
    "hidden": true
   },
   "source": []
  },
  {
   "cell_type": "code",
   "execution_count": null,
   "id": "07ef9b13",
   "metadata": {
    "hidden": true
   },
   "outputs": [],
   "source": [
    "# class Node:\n",
    "    ## WRITE NODE CONSTRUCTOR HERE ##\n",
    "    #                               #\n",
    "    #                               #\n",
    "    #                               #\n",
    "    #                               #\n",
    "    #################################\n",
    "        \n",
    "# class Queue:\n",
    "    ## WRITE QUEUE CONSTRUCTOR HERE ##\n",
    "    #                                #\n",
    "    #                                #\n",
    "    #                                #\n",
    "    #                                #\n",
    "    ##################################\n",
    "\n",
    "\n",
    "\n",
    "# DO NOT EDIT CODE BELOW THIS LINE\n",
    "my_queue = Queue(4)\n",
    "\n",
    "print('First:', my_queue.first.value)\n",
    "print('Last:', my_queue.last.value)\n",
    "print('Length:', my_queue.length)\n",
    "\n",
    "\n",
    "\"\"\"\n",
    "    EXPECTED OUTPUT:\n",
    "    ----------------\n",
    "    First: 4\n",
    "    Last: 4\n",
    "    Length: 1\n",
    "\n",
    "\"\"\";"
   ]
  },
  {
   "cell_type": "markdown",
   "id": "ccfbac5c",
   "metadata": {
    "heading_collapsed": true
   },
   "source": [
    "### Enqueue"
   ]
  },
  {
   "cell_type": "markdown",
   "id": "c01175e8",
   "metadata": {
    "hidden": true
   },
   "source": []
  },
  {
   "cell_type": "code",
   "execution_count": null,
   "id": "c605322c",
   "metadata": {
    "hidden": true
   },
   "outputs": [],
   "source": [
    "class Node:\n",
    "    def __init__(self, value):\n",
    "        self.value = value\n",
    "        self.next = None\n",
    "        \n",
    "\n",
    "class Queue:\n",
    "    def __init__(self, value):\n",
    "        new_node = Node(value)\n",
    "        self.first = new_node\n",
    "        self.last = new_node\n",
    "        self.length = 1\n",
    "\n",
    "    def print_queue(self):\n",
    "        temp = self.first\n",
    "        while temp is not None:\n",
    "            print(temp.value)\n",
    "            temp = temp.next\n",
    "        \n",
    "    ## WRITE ENQUEUE METHOD HERE ##\n",
    "    #                             #\n",
    "    #                             #\n",
    "    #                             #\n",
    "    #                             #\n",
    "    ###############################\n",
    "\n",
    "\n",
    "\n",
    "# DO NOT EDIT CODE BELOW THIS LINE\n",
    "my_queue = Queue(1)\n",
    "\n",
    "print('Queue before enqueue(2):')\n",
    "my_queue.print_queue()\n",
    "\n",
    "my_queue.enqueue(2)\n",
    "\n",
    "print('\\nQueue after enqueue(2):')\n",
    "my_queue.print_queue()\n",
    "\n",
    "\n",
    "\n",
    "\"\"\"\n",
    "    EXPECTED OUTPUT:\n",
    "    ----------------\n",
    "    Queue before enqueue(2):\n",
    "    1\n",
    "\n",
    "    Queue after enqueue(2):\n",
    "    1\n",
    "    2\n",
    "\n",
    "\"\"\";"
   ]
  },
  {
   "cell_type": "markdown",
   "id": "0d38a48a",
   "metadata": {
    "heading_collapsed": true
   },
   "source": [
    "### Dequeue"
   ]
  },
  {
   "cell_type": "markdown",
   "id": "82a86285",
   "metadata": {
    "hidden": true
   },
   "source": []
  },
  {
   "cell_type": "code",
   "execution_count": null,
   "id": "f4a518e7",
   "metadata": {
    "hidden": true
   },
   "outputs": [],
   "source": [
    "class Node:\n",
    "    def __init__(self, value):\n",
    "        self.value = value\n",
    "        self.next = None\n",
    "        \n",
    "\n",
    "class Queue:\n",
    "    def __init__(self, value):\n",
    "        new_node = Node(value)\n",
    "        self.first = new_node\n",
    "        self.last = new_node\n",
    "        self.length = 1\n",
    "\n",
    "    def print_queue(self):\n",
    "        temp = self.first\n",
    "        while temp is not None:\n",
    "            print(temp.value)\n",
    "            temp = temp.next\n",
    "        \n",
    "    def enqueue(self, value):\n",
    "        new_node = Node(value)\n",
    "        if self.first is None:\n",
    "            self.first = new_node\n",
    "            self.last = new_node\n",
    "        else:\n",
    "            self.last.next = new_node\n",
    "            self.last = new_node\n",
    "        self.length += 1\n",
    "        return True\n",
    "\n",
    "    ## WRITE DEQUEUE METHOD HERE ##\n",
    "    #                             #\n",
    "    #                             #\n",
    "    #                             #\n",
    "    #                             #\n",
    "    ###############################\n",
    "\n",
    "\n",
    "\n",
    "# DO NOT EDIT CODE BELOW THIS LINE\n",
    "my_queue = Queue(1)\n",
    "my_queue.enqueue(2)\n",
    "\n",
    "# (2) Items - Returns 2 Node\n",
    "print(my_queue.dequeue().value)\n",
    "# (1) Item -  Returns 1 Node\n",
    "print(my_queue.dequeue().value)\n",
    "# (0) Items - Returns None\n",
    "print(my_queue.dequeue())\n",
    "\n",
    "\n",
    "\n",
    "\"\"\"\n",
    "    EXPECTED OUTPUT:\n",
    "    ----------------\n",
    "    1\n",
    "    2\n",
    "    None\n",
    "\n",
    "\"\"\";"
   ]
  }
 ],
 "metadata": {
  "kernelspec": {
   "display_name": "Python 3 (ipykernel)",
   "language": "python",
   "name": "python3"
  },
  "language_info": {
   "codemirror_mode": {
    "name": "ipython",
    "version": 3
   },
   "file_extension": ".py",
   "mimetype": "text/x-python",
   "name": "python",
   "nbconvert_exporter": "python",
   "pygments_lexer": "ipython3",
   "version": "3.10.6"
  },
  "toc": {
   "base_numbering": 1,
   "nav_menu": {},
   "number_sections": true,
   "sideBar": true,
   "skip_h1_title": false,
   "title_cell": "Table of Contents",
   "title_sidebar": "Contents",
   "toc_cell": false,
   "toc_position": {},
   "toc_section_display": true,
   "toc_window_display": false
  }
 },
 "nbformat": 4,
 "nbformat_minor": 5
}
