{
 "cells": [
  {
   "cell_type": "markdown",
   "id": "688ab80c",
   "metadata": {},
   "source": [
    "# Building a Graph"
   ]
  },
  {
   "cell_type": "markdown",
   "id": "d899e92e",
   "metadata": {},
   "source": [
    "## Add Vertex"
   ]
  },
  {
   "cell_type": "markdown",
   "id": "a247ad2b",
   "metadata": {
    "heading_collapsed": true
   },
   "source": [
    "## Add Edge"
   ]
  },
  {
   "cell_type": "markdown",
   "id": "03b891e3",
   "metadata": {
    "hidden": true
   },
   "source": []
  },
  {
   "cell_type": "code",
   "execution_count": 1,
   "id": "12b7500d",
   "metadata": {
    "hidden": true
   },
   "outputs": [
    {
     "ename": "AttributeError",
     "evalue": "'Graph' object has no attribute 'add_edge'",
     "output_type": "error",
     "traceback": [
      "\u001b[0;31m---------------------------------------------------------------------------\u001b[0m",
      "\u001b[0;31mAttributeError\u001b[0m                            Traceback (most recent call last)",
      "Cell \u001b[0;32mIn [1], line 34\u001b[0m\n\u001b[1;32m     31\u001b[0m my_graph\u001b[38;5;241m.\u001b[39madd_vertex(\u001b[38;5;241m1\u001b[39m)\n\u001b[1;32m     32\u001b[0m my_graph\u001b[38;5;241m.\u001b[39madd_vertex(\u001b[38;5;241m2\u001b[39m)\n\u001b[0;32m---> 34\u001b[0m \u001b[43mmy_graph\u001b[49m\u001b[38;5;241;43m.\u001b[39;49m\u001b[43madd_edge\u001b[49m(\u001b[38;5;241m1\u001b[39m,\u001b[38;5;241m2\u001b[39m)\n\u001b[1;32m     36\u001b[0m my_graph\u001b[38;5;241m.\u001b[39mprint_graph()\n\u001b[1;32m     40\u001b[0m \u001b[38;5;124;03m\"\"\"\u001b[39;00m\n\u001b[1;32m     41\u001b[0m \u001b[38;5;124;03m    EXPECTED OUTPUT:\u001b[39;00m\n\u001b[1;32m     42\u001b[0m \u001b[38;5;124;03m    ----------------\u001b[39;00m\n\u001b[0;32m   (...)\u001b[0m\n\u001b[1;32m     45\u001b[0m \n\u001b[1;32m     46\u001b[0m \u001b[38;5;124;03m\"\"\"\u001b[39;00m\n",
      "\u001b[0;31mAttributeError\u001b[0m: 'Graph' object has no attribute 'add_edge'"
     ]
    }
   ],
   "source": [
    "class Graph:\n",
    "    def __init__(self):\n",
    "        self.adj_list = {}\n",
    "\n",
    "    def print_graph(self):\n",
    "        v_list = []\n",
    "        for vertex in self.adj_list:\n",
    "            v_list.append(vertex)\n",
    "        v_list.sort()\n",
    "        for v in v_list:\n",
    "            print(v, ':', self.adj_list[v])\n",
    "\n",
    "    def add_vertex(self, vertex):\n",
    "        if vertex not in self.adj_list.keys():\n",
    "            self.adj_list[vertex] = []\n",
    "            return True\n",
    "        return False\n",
    "\n",
    "    ## WRITE ADD_EDGE METHOD HERE ##\n",
    "    #                              #\n",
    "    #                              #\n",
    "    #                              #\n",
    "    #                              #\n",
    "    ################################\n",
    "\n",
    "\n",
    "\n",
    "# DO NOT EDIT CODE BELOW THIS LINE\n",
    "my_graph = Graph()\n",
    "\n",
    "my_graph.add_vertex(1)\n",
    "my_graph.add_vertex(2)\n",
    "\n",
    "my_graph.add_edge(1,2)\n",
    "\n",
    "my_graph.print_graph()\n",
    "\n",
    "\n",
    "\n",
    "\"\"\"\n",
    "    EXPECTED OUTPUT:\n",
    "    ----------------\n",
    "    1 : [2]\n",
    "    2 : [1]\n",
    "\n",
    "\"\"\";"
   ]
  },
  {
   "cell_type": "markdown",
   "id": "e26be0fa",
   "metadata": {},
   "source": [
    "## Remove Edge"
   ]
  },
  {
   "cell_type": "markdown",
   "id": "a6b80a2e",
   "metadata": {
    "heading_collapsed": true
   },
   "source": [
    "## Remove Vertex"
   ]
  },
  {
   "cell_type": "code",
   "execution_count": 2,
   "id": "89979542",
   "metadata": {
    "hidden": true
   },
   "outputs": [
    {
     "name": "stdout",
     "output_type": "stream",
     "text": [
      "Graph before remove_vertex():\n",
      "A : ['B', 'C', 'D']\n",
      "B : ['A', 'D']\n",
      "C : ['A', 'D']\n",
      "D : ['A', 'B', 'C']\n"
     ]
    },
    {
     "ename": "AttributeError",
     "evalue": "'Graph' object has no attribute 'remove_vertex'",
     "output_type": "error",
     "traceback": [
      "\u001b[0;31m---------------------------------------------------------------------------\u001b[0m",
      "\u001b[0;31mAttributeError\u001b[0m                            Traceback (most recent call last)",
      "Cell \u001b[0;32mIn [2], line 63\u001b[0m\n\u001b[1;32m     59\u001b[0m \u001b[38;5;28mprint\u001b[39m(\u001b[38;5;124m'\u001b[39m\u001b[38;5;124mGraph before remove_vertex():\u001b[39m\u001b[38;5;124m'\u001b[39m)\n\u001b[1;32m     60\u001b[0m my_graph\u001b[38;5;241m.\u001b[39mprint_graph()\n\u001b[0;32m---> 63\u001b[0m \u001b[43mmy_graph\u001b[49m\u001b[38;5;241;43m.\u001b[39;49m\u001b[43mremove_vertex\u001b[49m(\u001b[38;5;124m'\u001b[39m\u001b[38;5;124mD\u001b[39m\u001b[38;5;124m'\u001b[39m)\n\u001b[1;32m     66\u001b[0m \u001b[38;5;28mprint\u001b[39m(\u001b[38;5;124m'\u001b[39m\u001b[38;5;130;01m\\n\u001b[39;00m\u001b[38;5;124mGraph after remove_vertex():\u001b[39m\u001b[38;5;124m'\u001b[39m)\n\u001b[1;32m     67\u001b[0m my_graph\u001b[38;5;241m.\u001b[39mprint_graph()\n",
      "\u001b[0;31mAttributeError\u001b[0m: 'Graph' object has no attribute 'remove_vertex'"
     ]
    }
   ],
   "source": [
    "class Graph:\n",
    "    def __init__(self):\n",
    "        self.adj_list = {}\n",
    "\n",
    "    def print_graph(self):\n",
    "        v_list = []\n",
    "        for vertex in self.adj_list:\n",
    "            v_list.append(vertex)\n",
    "        v_list.sort()\n",
    "        for v in v_list:\n",
    "            print(v, ':', self.adj_list[v])\n",
    "\n",
    "    def add_vertex(self, vertex):\n",
    "        if vertex not in self.adj_list.keys():\n",
    "            self.adj_list[vertex] = []\n",
    "            return True\n",
    "        return False\n",
    "\n",
    "    def add_edge(self, v1, v2):\n",
    "        if v1 in self.adj_list.keys() and v2 in self.adj_list.keys():\n",
    "            self.adj_list[v1].append(v2)\n",
    "            self.adj_list[v2].append(v1)\n",
    "            return True\n",
    "        return False\n",
    "\n",
    "    def remove_edge(self, v1, v2):\n",
    "        if v1 in self.adj_list.keys() and v2 in self.adj_list.keys(): \n",
    "            try:\n",
    "                self.adj_list[v1].remove(v2)\n",
    "                self.adj_list[v2].remove(v1)\n",
    "            except ValueError:\n",
    "                pass\n",
    "            return True\n",
    "        return False\n",
    "\n",
    "    ## WRITE REMOVE_VERTEX METHOD HERE ##\n",
    "    #                                   #\n",
    "    #                                   #\n",
    "    #                                   #\n",
    "    #                                   #\n",
    "    ##################################### \n",
    "\n",
    "\n",
    "\n",
    "# DO NOT EDIT CODE BELOW THIS LINE\n",
    "my_graph = Graph()\n",
    "my_graph.add_vertex('A')\n",
    "my_graph.add_vertex('B')\n",
    "my_graph.add_vertex('C')\n",
    "my_graph.add_vertex('D')\n",
    "\n",
    "my_graph.add_edge('A','B')\n",
    "my_graph.add_edge('A','C')\n",
    "my_graph.add_edge('A','D')\n",
    "my_graph.add_edge('B','D')\n",
    "my_graph.add_edge('C','D')\n",
    "\n",
    "\n",
    "print('Graph before remove_vertex():')\n",
    "my_graph.print_graph()\n",
    "\n",
    "\n",
    "my_graph.remove_vertex('D')\n",
    "\n",
    "\n",
    "print('\\nGraph after remove_vertex():')\n",
    "my_graph.print_graph()\n",
    "\n",
    "\n",
    "\n",
    "\"\"\"\n",
    "EXPECTED OUTPUT:\n",
    "----------------\n",
    "    Graph before remove_vertex():\n",
    "    A : ['B', 'C', 'D']\n",
    "    B : ['A', 'D']\n",
    "    C : ['A', 'D']\n",
    "    D : ['A', 'B', 'C']\n",
    "\n",
    "    Graph after remove_vertex():\n",
    "    A : ['B', 'C']\n",
    "    B : ['A']\n",
    "    C : ['A']\n",
    "\n",
    "\"\"\";"
   ]
  },
  {
   "cell_type": "code",
   "execution_count": null,
   "id": "fc3e6679",
   "metadata": {
    "hidden": true
   },
   "outputs": [],
   "source": []
  }
 ],
 "metadata": {
  "kernelspec": {
   "display_name": "Python 3 (ipykernel)",
   "language": "python",
   "name": "python3"
  },
  "language_info": {
   "codemirror_mode": {
    "name": "ipython",
    "version": 3
   },
   "file_extension": ".py",
   "mimetype": "text/x-python",
   "name": "python",
   "nbconvert_exporter": "python",
   "pygments_lexer": "ipython3",
   "version": "3.10.6"
  },
  "toc": {
   "base_numbering": 1,
   "nav_menu": {},
   "number_sections": true,
   "sideBar": true,
   "skip_h1_title": false,
   "title_cell": "Table of Contents",
   "title_sidebar": "Contents",
   "toc_cell": false,
   "toc_position": {},
   "toc_section_display": true,
   "toc_window_display": false
  }
 },
 "nbformat": 4,
 "nbformat_minor": 5
}
